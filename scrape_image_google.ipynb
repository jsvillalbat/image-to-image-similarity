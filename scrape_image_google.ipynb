{
  "nbformat": 4,
  "nbformat_minor": 0,
  "metadata": {
    "colab": {
      "provenance": [],
      "authorship_tag": "ABX9TyP06wzer9VO3kW0B+0t1Rv7",
      "include_colab_link": true
    },
    "kernelspec": {
      "name": "python3",
      "display_name": "Python 3"
    },
    "language_info": {
      "name": "python"
    }
  },
  "cells": [
    {
      "cell_type": "markdown",
      "metadata": {
        "id": "view-in-github",
        "colab_type": "text"
      },
      "source": [
        "<a href=\"https://colab.research.google.com/github/jsvillalbat/image-to-image-similarity/blob/main/scrape_image_google.ipynb\" target=\"_parent\"><img src=\"https://colab.research.google.com/assets/colab-badge.svg\" alt=\"Open In Colab\"/></a>"
      ]
    },
    {
      "cell_type": "markdown",
      "source": [
        "\n",
        "# Scrape Images\n",
        "Cuaderno para hacer scrapping de imagenes de Google con el fin de obtener imagenes para entrenar un modelo de image retrieval sobre herramientas y productos de construcción para TUL.\n",
        "\n",
        "Basado en este repositorio publicod e Github: https://github.com/ankonzoid/artificio/blob/master/scrape_google_images/scrape_google_images.py"
      ],
      "metadata": {
        "id": "nht3fWgl2hpy"
      }
    },
    {
      "cell_type": "code",
      "execution_count": null,
      "metadata": {
        "id": "I_tn4ldM2TXi"
      },
      "outputs": [],
      "source": [
        "# import the libraries\n",
        "import os, json, time\n",
        "import requests\n",
        "import urllib.request as urllibreq\n",
        "from bs4 import BeautifulSoup"
      ]
    },
    {
      "cell_type": "code",
      "source": [
        "from google.colab import drive\n",
        "drive.mount('/content/drive')"
      ],
      "metadata": {
        "colab": {
          "base_uri": "https://localhost:8080/"
        },
        "id": "RKGcl1fUVSpt",
        "outputId": "a2e99003-d85f-4fa8-aa60-2c935c0dfe8f"
      },
      "execution_count": null,
      "outputs": [
        {
          "output_type": "stream",
          "name": "stdout",
          "text": [
            "Mounted at /content/drive\n"
          ]
        }
      ]
    },
    {
      "cell_type": "code",
      "source": [
        "absolute_path = \"/content/drive/MyDrive/Colab Notebooks/Image Retrieval\"\n",
        "train_dataset_path = absolute_path + \"/train_1\"\n",
        "test_dataset_path = absolute_path + \"/test_1\""
      ],
      "metadata": {
        "id": "QriEKUVRVVZQ"
      },
      "execution_count": null,
      "outputs": []
    },
    {
      "cell_type": "markdown",
      "source": [
        "Función que realiza el scrapping de imagenes de Google, recibe como párametros el query, u objeto a hacer scrapping, el número de imagenes a descargar, el directorio donde guardar las imagenes y el número de segundos a esperar entre la descarga de las imagenes"
      ],
      "metadata": {
        "id": "y5yiOOCn3BPJ"
      }
    },
    {
      "cell_type": "code",
      "source": [
        "def scrape_google_images(query, k, outDir, dt_stall):\n",
        "    print(\"Scraping top k={} Google images for query: '{}'\".format(k, query))\n",
        "\n",
        "    # Create output directory\n",
        "    if not os.path.exists(outDir):\n",
        "        os.mkdir(outDir)\n",
        "    # Construct image url to scrape from\n",
        "    url = \"https://www.google.co.in/search?q=\" + \\\n",
        "          '+'.join(query.split()) + \"&source=lnms&tbm=isch\"\n",
        "    header = {'User-Agent': \"Mozilla/5.0 (Windows NT 6.1; WOW64) AppleWebKit/537.36 (KHTML, like Gecko) Chrome/43.0.2357.134 Safari/537.36\"}\n",
        "\n",
        "    # Download html + parse it to get all image urls\n",
        "    html = urllibreq.urlopen(urllibreq.Request(url, headers=header))\n",
        "    soup = BeautifulSoup(html,'html.parser')\n",
        "    urls = [ x.find('img')['src']\n",
        "            for x in soup.find_all(\"div\", {\"class\": \"kCmkOe\"})]\n",
        "    print(\"Parsed {} google image urls!\".format(len(urls)))\n",
        "\n",
        "    # Download top-k images\n",
        "    for i, url in enumerate(urls[:min(k, len(urls))]):\n",
        "        imgFile = os.path.join(outDir, query + \"-\" + str(i+1) + \".jpg\")\n",
        "        print(\"[{}/{}] Downloading image {} to '{}'...\".format(i+1, k, url, imgFile))\n",
        "        try:\n",
        "            with open(imgFile, 'wb') as handle:\n",
        "                response = requests.get(url, stream=True)\n",
        "                if not response.ok:\n",
        "                    print(response)\n",
        "                for block in response.iter_content(1024):\n",
        "                    if not block:\n",
        "                        break\n",
        "                    handle.write(block)\n",
        "            time.sleep(dt_stall)  # force pause\n",
        "        except:\n",
        "            raise Exception(\"  -> Failed downloading: \" + url)"
      ],
      "metadata": {
        "id": "A0x55GSV3TuP"
      },
      "execution_count": null,
      "outputs": []
    },
    {
      "cell_type": "markdown",
      "source": [
        "Correr función para descargar imagenes"
      ],
      "metadata": {
        "id": "_NGInR914H3s"
      }
    },
    {
      "cell_type": "code",
      "source": [
        "query = \"masking tape\"  # google images query text\n",
        "k = 5  # top-k images will be scraped\n",
        "dt_stall = 2  # number of seconds to stall between image scrapes\n",
        "scrape_google_images(query=query, k=k, outDir=train_dataset_path, dt_stall=dt_stall)"
      ],
      "metadata": {
        "colab": {
          "base_uri": "https://localhost:8080/"
        },
        "id": "IQpRRNmv4LTb",
        "outputId": "43d7a5ca-6185-49f9-b8c6-3032c8602714"
      },
      "execution_count": null,
      "outputs": [
        {
          "output_type": "stream",
          "name": "stdout",
          "text": [
            "Scraping top k=5 Google images for query: 'masking tape'\n",
            "Parsed 20 google image urls!\n",
            "[1/5] Downloading image https://encrypted-tbn0.gstatic.com/images?q=tbn:ANd9GcTDkM7NqHDNlBIT8PBw-yiSdW3OPCuQd9brEu7eNnIOgMkB2wpNcvP8UyWi9g&s to '/content/drive/MyDrive/Colab Notebooks/Image Retrieval/train_1/masking tape-1.jpg'...\n",
            "[2/5] Downloading image https://encrypted-tbn0.gstatic.com/images?q=tbn:ANd9GcTAeTB6PJs-bW3K2Fej86E7QQmihTV4Zl0ya9j55ce6zqJe2ar72NDrBzDvug&s to '/content/drive/MyDrive/Colab Notebooks/Image Retrieval/train_1/masking tape-2.jpg'...\n",
            "[3/5] Downloading image https://encrypted-tbn0.gstatic.com/images?q=tbn:ANd9GcQc1u4bFXSad55jooJ7GO_i1dGtDujYmZBbVmILbae_ga9GlMbE6lZ19kX05Q&s to '/content/drive/MyDrive/Colab Notebooks/Image Retrieval/train_1/masking tape-3.jpg'...\n",
            "[4/5] Downloading image https://encrypted-tbn0.gstatic.com/images?q=tbn:ANd9GcS-raAtHZHHY4yv69NOQ2nk3MwZVvgraZbrf0dTojoG24zEdMEeLf83eOyOanU&s to '/content/drive/MyDrive/Colab Notebooks/Image Retrieval/train_1/masking tape-4.jpg'...\n",
            "[5/5] Downloading image https://encrypted-tbn0.gstatic.com/images?q=tbn:ANd9GcTKeWMo3DsxtZWya3BRNRAd4X-pHPEAGrO1aLj2d8nuVzIOP3N5U-VdVfK4hCY&s to '/content/drive/MyDrive/Colab Notebooks/Image Retrieval/train_1/masking tape-5.jpg'...\n"
          ]
        }
      ]
    }
  ]
}